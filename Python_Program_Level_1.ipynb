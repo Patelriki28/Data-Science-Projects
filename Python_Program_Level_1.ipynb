{
  "nbformat": 4,
  "nbformat_minor": 0,
  "metadata": {
    "colab": {
      "name": "Python Program Level- 1.ipynb",
      "provenance": [],
      "collapsed_sections": [],
      "include_colab_link": true
    },
    "kernelspec": {
      "name": "python3",
      "display_name": "Python 3"
    }
  },
  "cells": [
    {
      "cell_type": "markdown",
      "metadata": {
        "id": "view-in-github",
        "colab_type": "text"
      },
      "source": [
        "<a href=\"https://colab.research.google.com/github/Patelriki28/RP-Websoft/blob/master/Python_Program_Level_1.ipynb\" target=\"_parent\"><img src=\"https://colab.research.google.com/assets/colab-badge.svg\" alt=\"Open In Colab\"/></a>"
      ]
    },
    {
      "cell_type": "markdown",
      "metadata": {
        "id": "bv2D5irvDACV"
      },
      "source": [
        "1.Write a program to check whether a year is leap year or not.\n",
        "\n",
        "Input: 2017\n",
        "\n",
        "Output: Not a Leap year\n",
        "\n",
        "\n"
      ]
    },
    {
      "cell_type": "code",
      "metadata": {
        "id": "YP05BSfBBVmO",
        "outputId": "c0977ab0-73c4-4a4f-a89f-a8ef2ca66e16",
        "colab": {
          "base_uri": "https://localhost:8080/",
          "height": 51
        }
      },
      "source": [
        "#Solution\n",
        "year = int(input(\"Enter a year: \"))\n",
        "\n",
        "if (year % 4) == 0:\n",
        "   if (year % 100) == 0:\n",
        "       if (year % 400) == 0:\n",
        "           print(\"{0} is a leap year\".format(year))\n",
        "       else:\n",
        "           print(\"{0} is not a leap year\".format(year))\n",
        "   else:\n",
        "       print(\"{0} is a leap year\".format(year))\n",
        "else:\n",
        "   print(\"{0} is not a leap year\".format(year))\n"
      ],
      "execution_count": null,
      "outputs": [
        {
          "output_type": "stream",
          "text": [
            "Enter a year: 2017\n",
            "2017 is not a leap year\n"
          ],
          "name": "stdout"
        }
      ]
    },
    {
      "cell_type": "markdown",
      "metadata": {
        "id": "KUzE0E7IEBwm"
      },
      "source": [
        "2. Write a program to check whether an integer is a prime number or not.\n",
        "\n",
        "Input : 407\n",
        "\n",
        "Output : Not a prime number"
      ]
    },
    {
      "cell_type": "code",
      "metadata": {
        "id": "FbjcZ9Z5EDeN",
        "outputId": "65918ef6-4188-436c-c058-bf37b088426b",
        "colab": {
          "base_uri": "https://localhost:8080/",
          "height": 51
        }
      },
      "source": [
        "#Solution\n",
        "\n",
        "num = int(input(\"Enter a number: \"))\n",
        "\n",
        "# prime numbers are greater than 1\n",
        "if num > 1:\n",
        "   for i in range(2,num):\n",
        "       if (num % i) == 0:\n",
        "           print(num,\"is not a prime number\")\n",
        "           break\n",
        "   else:\n",
        "       print(num,\"is a prime number\")\n",
        "       \n",
        "# if input number is less than\n",
        "# or equal to 1, it is not prime\n",
        "else:\n",
        "   print(num,\"is not a prime number\")"
      ],
      "execution_count": null,
      "outputs": [
        {
          "output_type": "stream",
          "text": [
            "Enter a number: 407\n",
            "407 is not a prime number\n"
          ],
          "name": "stdout"
        }
      ]
    },
    {
      "cell_type": "markdown",
      "metadata": {
        "id": "jVbNAwuRnVRn"
      },
      "source": [
        "3. Write a program to print the Fibonacci sequence.\n",
        "\n",
        "Input: 7\n",
        "\n",
        "Output : 0 1 1 2 3 5 8"
      ]
    },
    {
      "cell_type": "code",
      "metadata": {
        "id": "aBW_QD2Wn3-h",
        "outputId": "90746df2-bd0e-460b-a4b3-967b593adde7",
        "colab": {
          "base_uri": "https://localhost:8080/",
          "height": 170
        }
      },
      "source": [
        "#solution\n",
        "nterms = int(input(\"How many terms? \"))\n",
        "\n",
        "# first two terms\n",
        "n1, n2 = 0, 1\n",
        "count = 0\n",
        "# check if the number of terms is valid\n",
        "if nterms <= 0:\n",
        "   print(\"Please enter a positive integer\")\n",
        "elif nterms == 1:\n",
        "   print(\"Fibonacci sequence upto\",nterms,\":\")\n",
        "   print(n1)\n",
        "else:\n",
        "   print(\"Fibonacci sequence:\")\n",
        "   while count < nterms:\n",
        "       print(n1)\n",
        "       nth = n1 + n2\n",
        "       # update values\n",
        "       n1 = n2\n",
        "       n2 = nth\n",
        "       count += 1\n"
      ],
      "execution_count": null,
      "outputs": [
        {
          "output_type": "stream",
          "text": [
            "How many terms? 7\n",
            "Fibonacci sequence:\n",
            "0\n",
            "1\n",
            "1\n",
            "2\n",
            "3\n",
            "5\n",
            "8\n"
          ],
          "name": "stdout"
        }
      ]
    },
    {
      "cell_type": "markdown",
      "metadata": {
        "id": "Jyk0favvn6er"
      },
      "source": [
        "4. Write a program to convert decimal to binary, octal and hexadecimal.\n",
        "\n",
        " Input :\n",
        "       decimal value = 344\n",
        "\n",
        " Output : \n",
        "         Binary = 101011000\n",
        "         \n",
        "         Octal = 530\n",
        "\n",
        "         Hexadecimal = 158"
      ]
    },
    {
      "cell_type": "code",
      "metadata": {
        "id": "v5R9nPfGpY9o",
        "outputId": "0a3f5a7a-d76f-4289-c8d3-4467e19b0156",
        "colab": {
          "base_uri": "https://localhost:8080/",
          "height": 85
        }
      },
      "source": [
        "#solution\n",
        "# Python program to convert decimal into other number systems\n",
        "dec = 344\n",
        "\n",
        "print(\"The decimal value of\", dec, \"is:\")\n",
        "print(bin(dec)[2:], \"in binary.\")\n",
        "print(oct(dec)[2:], \"in octal.\")\n",
        "print(hex(dec)[2:], \"in hexadecimal.\")\n"
      ],
      "execution_count": null,
      "outputs": [
        {
          "output_type": "stream",
          "text": [
            "The decimal value of 344 is:\n",
            "101011000 in binary.\n",
            "530 in octal.\n",
            "158 in hexadecimal.\n"
          ],
          "name": "stdout"
        }
      ]
    },
    {
      "cell_type": "code",
      "metadata": {
        "id": "5ybZWrB6oq93"
      },
      "source": [
        ""
      ],
      "execution_count": null,
      "outputs": []
    }
  ]
}