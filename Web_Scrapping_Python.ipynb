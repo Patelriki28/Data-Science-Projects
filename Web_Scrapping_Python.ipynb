{
  "nbformat": 4,
  "nbformat_minor": 0,
  "metadata": {
    "colab": {
      "name": "Web Scrapping Python.ipynb",
      "provenance": [],
      "authorship_tag": "ABX9TyPTIAorvaQjrO8yj46bngVl",
      "include_colab_link": true
    },
    "kernelspec": {
      "name": "python3",
      "display_name": "Python 3"
    },
    "language_info": {
      "name": "python"
    }
  },
  "cells": [
    {
      "cell_type": "markdown",
      "metadata": {
        "id": "view-in-github",
        "colab_type": "text"
      },
      "source": [
        "<a href=\"https://colab.research.google.com/github/Patelriki28/RP-Websoft/blob/master/Web_Scrapping_Python.ipynb\" target=\"_parent\"><img src=\"https://colab.research.google.com/assets/colab-badge.svg\" alt=\"Open In Colab\"/></a>"
      ]
    },
    {
      "cell_type": "markdown",
      "metadata": {
        "id": "pE13KbDdJjzn"
      },
      "source": [
        "**Load webpages into Python through requests**\n",
        "\n",
        "Reference notebook for the first task of the Web Scraping with Python and BeautifulSoup\n",
        "\n",
        "**Loading page source code into Python**"
      ]
    },
    {
      "cell_type": "code",
      "metadata": {
        "id": "gdFkvSVpI4I6"
      },
      "source": [
        "import requests as req\n",
        "URL = 'https://pt.wikipedia.org/wiki/Ariquemes'"
      ],
      "execution_count": null,
      "outputs": []
    },
    {
      "cell_type": "markdown",
      "metadata": {
        "id": "16JdDstGJ_Lo"
      },
      "source": [
        "**Access elements and attributes inside HTML pages¶**\n"
      ]
    },
    {
      "cell_type": "code",
      "metadata": {
        "id": "2O5g9j9qKC-P"
      },
      "source": [
        "import requests as req\n",
        "from bs4 import BeautifulSoup"
      ],
      "execution_count": null,
      "outputs": []
    },
    {
      "cell_type": "code",
      "metadata": {
        "id": "819G0_3WKOr8"
      },
      "source": [
        "URL = 'https://pt.wikipedia.org/wiki/Ariquemes'\n",
        "r = req.get(URL)\n",
        "soup = BeautifulSoup(r.content)"
      ],
      "execution_count": null,
      "outputs": []
    },
    {
      "cell_type": "code",
      "metadata": {
        "colab": {
          "base_uri": "https://localhost:8080/",
          "height": 137
        },
        "id": "AtuZA2jJKXHD",
        "outputId": "eb7a3773-5af9-4329-d376-81843ec5211b"
      },
      "source": [
        "soup.prettify()[:1000]"
      ],
      "execution_count": null,
      "outputs": [
        {
          "output_type": "execute_result",
          "data": {
            "application/vnd.google.colaboratory.intrinsic+json": {
              "type": "string"
            },
            "text/plain": [
              "'<!DOCTYPE html>\\n<html class=\"client-nojs\" dir=\"ltr\" lang=\"pt\">\\n <head>\\n  <meta charset=\"utf-8\"/>\\n  <title>\\n   Ariquemes – Wikipédia, a enciclopédia livre\\n  </title>\\n  <script>\\n   document.documentElement.className=\"client-js\";RLCONF={\"wgBreakFrames\":!1,\"wgSeparatorTransformTable\":[\",\\\\t.\",\"\\xa0\\\\t,\"],\"wgDigitTransformTable\":[\"\",\"\"],\"wgDefaultDateFormat\":\"dmy\",\"wgMonthNames\":[\"\",\"janeiro\",\"fevereiro\",\"março\",\"abril\",\"maio\",\"junho\",\"julho\",\"agosto\",\"setembro\",\"outubro\",\"novembro\",\"dezembro\"],\"wgRequestId\":\"4b25d879-d21b-4c4e-b6f6-453608f662ca\",\"wgCSPNonce\":!1,\"wgCanonicalNamespace\":\"\",\"wgCanonicalSpecialPageName\":!1,\"wgNamespaceNumber\":0,\"wgPageName\":\"Ariquemes\",\"wgTitle\":\"Ariquemes\",\"wgCurRevisionId\":60213652,\"wgRevisionId\":60213652,\"wgArticleId\":33863,\"wgIsArticle\":!0,\"wgIsRedirect\":!1,\"wgAction\":\"view\",\"wgUserName\":null,\"wgUserGroups\":[\"*\"],\"wgCategories\":[\"!Páginas com argumentos formatnum não numéricos\",\"!Páginas com citações sem título\",\"!Páginas com citações e URLs vazios\",\"!Imagem loc'"
            ]
          },
          "metadata": {
            "tags": []
          },
          "execution_count": 4
        }
      ]
    },
    {
      "cell_type": "markdown",
      "metadata": {
        "id": "SZHljSrQKbh7"
      },
      "source": [
        "**Search for elements with given classes and attributes**"
      ]
    },
    {
      "cell_type": "code",
      "metadata": {
        "id": "O2OpnhtUK_bi"
      },
      "source": [
        "import requests as req\n",
        "from bs4 import BeautifulSoup"
      ],
      "execution_count": null,
      "outputs": []
    },
    {
      "cell_type": "code",
      "metadata": {
        "id": "OFX2VJ9HLDYA"
      },
      "source": [
        "URL = 'https://pt.wikipedia.org/wiki/Ariquemes'\n",
        "r = req.get(URL)\n",
        "soup = BeautifulSoup(r.content)"
      ],
      "execution_count": null,
      "outputs": []
    },
    {
      "cell_type": "markdown",
      "metadata": {
        "id": "VsRjDAL9LJlE"
      },
      "source": [
        "**Use CSS selectors for searching complex patterns**"
      ]
    },
    {
      "cell_type": "code",
      "metadata": {
        "id": "htNk0VXPLkbv"
      },
      "source": [
        "import requests as req\n",
        "from bs4 import BeautifulSoup\n",
        "\n",
        "URL = 'https://pt.wikipedia.org/wiki/Rond%C3%B4nia'\n",
        "r = req.get(URL)\n",
        "soup = BeautifulSoup(r.content)"
      ],
      "execution_count": null,
      "outputs": []
    },
    {
      "cell_type": "markdown",
      "metadata": {
        "id": "NQ-Rg9g8LzaL"
      },
      "source": [
        "**Send POST, PUT and PATCH data with modified headers**"
      ]
    },
    {
      "cell_type": "code",
      "metadata": {
        "id": "YJ-1SzcwL0vL"
      },
      "source": [
        "import requests as req\n",
        "import json\n",
        "\n",
        "api_link = 'https://jsonplaceholder.typicode.com/posts'"
      ],
      "execution_count": null,
      "outputs": []
    },
    {
      "cell_type": "code",
      "metadata": {
        "colab": {
          "base_uri": "https://localhost:8080/"
        },
        "id": "5iW6lTdPL7Os",
        "outputId": "bd7c9630-2cb5-4a4f-d205-b873ece8a110"
      },
      "source": [
        "r = req.get(api_link)\n",
        "data = json.loads(r.content)\n",
        "data[0:2]"
      ],
      "execution_count": null,
      "outputs": [
        {
          "output_type": "execute_result",
          "data": {
            "text/plain": [
              "[{'body': 'quia et suscipit\\nsuscipit recusandae consequuntur expedita et cum\\nreprehenderit molestiae ut ut quas totam\\nnostrum rerum est autem sunt rem eveniet architecto',\n",
              "  'id': 1,\n",
              "  'title': 'sunt aut facere repellat provident occaecati excepturi optio reprehenderit',\n",
              "  'userId': 1},\n",
              " {'body': 'est rerum tempore vitae\\nsequi sint nihil reprehenderit dolor beatae ea dolores neque\\nfugiat blanditiis voluptate porro vel nihil molestiae ut reiciendis\\nqui aperiam non debitis possimus qui neque nisi nulla',\n",
              "  'id': 2,\n",
              "  'title': 'qui est esse',\n",
              "  'userId': 1}]"
            ]
          },
          "metadata": {
            "tags": []
          },
          "execution_count": 9
        }
      ]
    },
    {
      "cell_type": "markdown",
      "metadata": {
        "id": "6vup_zhFL_yx"
      },
      "source": [
        "**Authenticate and mantain connections through cookies and sessions**"
      ]
    },
    {
      "cell_type": "code",
      "metadata": {
        "id": "S76meyNjMH8c"
      },
      "source": [
        "import requests as req\n",
        "\n",
        "link = 'http://testing-ground.scraping.pro/login'"
      ],
      "execution_count": null,
      "outputs": []
    },
    {
      "cell_type": "code",
      "metadata": {
        "id": "AGsNMIEEMNjm"
      },
      "source": [
        "from bs4 import BeautifulSoup\n",
        "\n",
        "LOGGED_SELECTOR = '#case_login > h3'\n",
        "\n",
        "def is_logged(html_source):\n",
        "    soup = BeautifulSoup(html_source)\n",
        "    elements = soup.select(LOGGED_SELECTOR)\n",
        "    if len(elements) == 1:\n",
        "        element = elements[0]\n",
        "        if 'success' in element.get('class', []):\n",
        "            return True\n",
        "        else:\n",
        "            return False\n",
        "    elif len(elements) > 1:\n",
        "        raise Exception('Something is wrong with the source')\n",
        "    else:\n",
        "        return False"
      ],
      "execution_count": null,
      "outputs": []
    }
  ]
}