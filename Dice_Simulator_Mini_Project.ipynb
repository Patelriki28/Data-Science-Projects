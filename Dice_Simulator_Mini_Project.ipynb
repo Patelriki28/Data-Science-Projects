{
  "nbformat": 4,
  "nbformat_minor": 0,
  "metadata": {
    "colab": {
      "name": "Dice Simulator Mini Project.ipynb",
      "provenance": [],
      "collapsed_sections": [],
      "include_colab_link": true
    },
    "kernelspec": {
      "name": "python3",
      "display_name": "Python 3"
    }
  },
  "cells": [
    {
      "cell_type": "markdown",
      "metadata": {
        "id": "view-in-github",
        "colab_type": "text"
      },
      "source": [
        "<a href=\"https://colab.research.google.com/github/Patelriki28/RP-Websoft/blob/master/Dice_Simulator_Mini_Project.ipynb\" target=\"_parent\"><img src=\"https://colab.research.google.com/assets/colab-badge.svg\" alt=\"Open In Colab\"/></a>"
      ]
    },
    {
      "cell_type": "code",
      "metadata": {
        "colab": {
          "base_uri": "https://localhost:8080/"
        },
        "id": "Ex1xaJSIL39s",
        "outputId": "b3a82b99-d9d3-470d-85b8-a2a2632778ab"
      },
      "source": [
        "import random \n",
        "while True:     \n",
        "     print(''' 1. roll the dice             2. exit     ''')    \n",
        "     user = input(\"what you want to do\\n\")\n",
        "     try:\n",
        "       user=int(user)\n",
        "     except:\n",
        "       print(\"Invalid Choice\")\n",
        "       continue     \n",
        "     if user==1:         \n",
        "        number = random.randint(1,6)         \n",
        "        print(number)     \n",
        "     elif user==2:\n",
        "       break1\n",
        "     else:\n",
        "       print(\"Invalid Choice\")\n",
        "       continue\n",
        "    "
      ],
      "execution_count": null,
      "outputs": [
        {
          "output_type": "stream",
          "text": [
            " 1. roll the dice             2. exit     \n",
            "what you want to do\n",
            "1\n",
            "2\n",
            " 1. roll the dice             2. exit     \n",
            "what you want to do\n",
            "1\n",
            "3\n",
            " 1. roll the dice             2. exit     \n",
            "what you want to do\n",
            "3\n",
            "Invalid Choice\n",
            " 1. roll the dice             2. exit     \n",
            "what you want to do\n",
            "str\n",
            "Invalid Choice\n",
            " 1. roll the dice             2. exit     \n",
            "what you want to do\n",
            "2\n"
          ],
          "name": "stdout"
        }
      ]
    }
  ]
}