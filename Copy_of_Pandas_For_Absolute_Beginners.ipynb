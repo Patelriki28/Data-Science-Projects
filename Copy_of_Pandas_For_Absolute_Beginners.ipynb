{
  "nbformat": 4,
  "nbformat_minor": 0,
  "metadata": {
    "colab": {
      "name": "Copy of Pandas_For Absolute Beginners.ipynb",
      "provenance": [],
      "collapsed_sections": [
        "Jh3iu_7Zbb9C",
        "0IZ0uA9hbhZu",
        "U365PgeucGd8",
        "7dU1U2w2I9Pl",
        "NrkF3i67JgZt",
        "bygYXgTaRnUi",
        "orm1FTwB1uBM",
        "d3tkNyB7Sr_d",
        "Bhco3vZab8Vc"
      ],
      "include_colab_link": true
    },
    "kernelspec": {
      "name": "python3",
      "display_name": "Python 3"
    }
  },
  "cells": [
    {
      "cell_type": "markdown",
      "metadata": {
        "id": "view-in-github",
        "colab_type": "text"
      },
      "source": [
        "<a href=\"https://colab.research.google.com/github/Patelriki28/RP-Websoft/blob/master/Copy_of_Pandas_For_Absolute_Beginners.ipynb\" target=\"_parent\"><img src=\"https://colab.research.google.com/assets/colab-badge.svg\" alt=\"Open In Colab\"/></a>"
      ]
    },
    {
      "cell_type": "markdown",
      "metadata": {
        "id": "HmeAlURWR0hY",
        "colab_type": "text"
      },
      "source": [
        "#Pandas - For Absolute Beginners!\n",
        "\n",
        "Pandas is the most commonly used Python package for data analysis. It is built on top of Numpy package and supports 1D(Arrays), 2D(Tables or DataFrames) and 3D(Panel) data. If you're thinking to learn data science, then it is imperative that one of the first things you do is learn Pandas.\n",
        "\n",
        "For beginners, Pandas is used for\n",
        "\n",
        "*   Creating or loading data for analysis\n",
        "*   Exploratory Data Analysis\n",
        "*   Performing statistical operations like finding Mean, Median etc\n",
        "*   Data cleansing like Missing Value treatments, Transformations, Binning etc\n",
        "*   Visualizing the data using plots\n",
        "*   Saving the results back\n",
        "\n"
      ]
    },
    {
      "cell_type": "markdown",
      "metadata": {
        "id": "Jh3iu_7Zbb9C",
        "colab_type": "text"
      },
      "source": [
        "#Importing Pandas"
      ]
    },
    {
      "cell_type": "code",
      "metadata": {
        "id": "o7Z4qa0ZbaJM",
        "colab_type": "code",
        "colab": {}
      },
      "source": [
        "import numpy as np\n",
        "import pandas as pd"
      ],
      "execution_count": null,
      "outputs": []
    },
    {
      "cell_type": "markdown",
      "metadata": {
        "id": "0IZ0uA9hbhZu",
        "colab_type": "text"
      },
      "source": [
        "#Loading Data"
      ]
    },
    {
      "cell_type": "markdown",
      "metadata": {
        "id": "U365PgeucGd8",
        "colab_type": "text"
      },
      "source": [
        "## Reading Data from data sources\n",
        "\n",
        "Pandas supports reading data from multiple sources like CSV, Excel, JSON, SQL DB, Cloud DBs like Bigquery and continues to expand the list of supported data sources."
      ]
    },
    {
      "cell_type": "code",
      "metadata": {
        "id": "I-rklgSVGu0-",
        "colab_type": "code",
        "colab": {}
      },
      "source": [
        "#df = pd.read_csv('sample_data/california_housing_test.csv')\n",
        "\n",
        "# uncomment and Replace keyword to read from other data sources like\n",
        "\n",
        "#pd.read_excel        - For reading from Excel file\n",
        "#pd.read_gbq          - For reading from Google Bigquery\n",
        "#pd.read_hdf          - For reading from big data sources\n",
        "#pd.read_html         - For reading from html files\n",
        "#pd.read_json         - For reading from JSON files \n",
        "#pd.read_sql_query    - For reading from SQL database"
      ],
      "execution_count": null,
      "outputs": []
    },
    {
      "cell_type": "markdown",
      "metadata": {
        "id": "7dU1U2w2I9Pl",
        "colab_type": "text"
      },
      "source": [
        "#Creating Data\n",
        "\n",
        "Though most real time scenarios would require us to load the data from different data sources, we will learn how to create our own Pandas Series or Pandas DataFrame so that we can get strong intuition on how they work"
      ]
    },
    {
      "cell_type": "markdown",
      "metadata": {
        "id": "NrkF3i67JgZt",
        "colab_type": "text"
      },
      "source": [
        "## Pandas Series\n",
        "\n",
        "Pandas series is an one dimensional labelled array. It can be constructed using an array and can be thought of an single column or row in a table."
      ]
    },
    {
      "cell_type": "code",
      "metadata": {
        "id": "5sWPnYONeA3f",
        "colab_type": "code",
        "colab": {}
      },
      "source": [
        "# pandas.Series( data, index, dtype) - Constructor for Pandas series\n",
        "\n",
        "a = pd.Series()\n",
        "print(a)"
      ],
      "execution_count": null,
      "outputs": []
    },
    {
      "cell_type": "code",
      "metadata": {
        "id": "EAnV4DsFOmfC",
        "colab_type": "code",
        "colab": {}
      },
      "source": [
        "data = [1, 3, 5, 7]\n",
        "odd_numbers = pd.Series(data)\n",
        "print(odd_numbers)"
      ],
      "execution_count": null,
      "outputs": []
    },
    {
      "cell_type": "code",
      "metadata": {
        "id": "JIdEDkipPml0",
        "colab_type": "code",
        "colab": {}
      },
      "source": [
        "fruit = ['Apple', 'Orange', 'Grapes']\n",
        "rate = [80, 45, 40]\n",
        "shop = pd.Series(rate, fruit)\n",
        "print(shop)"
      ],
      "execution_count": null,
      "outputs": []
    },
    {
      "cell_type": "markdown",
      "metadata": {
        "id": "bygYXgTaRnUi",
        "colab_type": "text"
      },
      "source": [
        "## Pandas DataFrames\n",
        "\n",
        "DataFrame is a 2 dimensional data structure and you can imagine it as a table or spreadsheet with rows and columns. Most structured data can be handled using this format. DataFrames can be construced using Lists, Series, Arrays, Dictionaries or another DataFrame."
      ]
    },
    {
      "cell_type": "code",
      "metadata": {
        "id": "y-Lf9s45RLXZ",
        "colab_type": "code",
        "colab": {}
      },
      "source": [
        "#pandas.DataFrame( data, index, columns, dtype) - Constructor for DataFrames, Data is the only mandatory attribute\n",
        "\n",
        "#Empty DataFrame\n",
        "\n",
        "empty = pd.DataFrame()\n",
        "print(empty)"
      ],
      "execution_count": null,
      "outputs": []
    },
    {
      "cell_type": "code",
      "metadata": {
        "id": "PdjMoSTfTMBV",
        "colab_type": "code",
        "colab": {}
      },
      "source": [
        "# Creating DataFrame from Lists\n",
        "data = [1, 3, 5, 7]\n",
        "df_odd = pd.DataFrame(data)\n",
        "print(df_odd)"
      ],
      "execution_count": null,
      "outputs": []
    },
    {
      "cell_type": "code",
      "metadata": {
        "id": "ZO_2M79zgzQr",
        "colab_type": "code",
        "colab": {}
      },
      "source": [
        "data = [[1,1], [2,4], [3,6]]\n",
        "df_table = pd.DataFrame(data)\n",
        "print(df_table)"
      ],
      "execution_count": null,
      "outputs": []
    },
    {
      "cell_type": "code",
      "metadata": {
        "id": "_gcRMq5lhVqh",
        "colab_type": "code",
        "colab": {}
      },
      "source": [
        "data = [[1,1], [2,4], [3,6]]\n",
        "cols = ['multiplier', 'output']\n",
        "idx = [1, 2, 3]\n",
        "df_table = pd.DataFrame(data, index = idx, columns = cols)\n",
        "print(df_table)"
      ],
      "execution_count": null,
      "outputs": []
    },
    {
      "cell_type": "code",
      "metadata": {
        "id": "6D9EhT_Shk6y",
        "colab_type": "code",
        "colab": {}
      },
      "source": [
        "# Creating DataFrame from Dictionary\n",
        "\n",
        "data = {'Name':['Harry', 'Tom', 'Jack', 'Steve'],'Marks':[75,82,88,86]}\n",
        "score = pd.DataFrame(data)\n",
        "print(score)"
      ],
      "execution_count": null,
      "outputs": []
    },
    {
      "cell_type": "markdown",
      "metadata": {
        "id": "-HLMcJrht9vA",
        "colab_type": "text"
      },
      "source": [
        "#Descriptive Analytics\n",
        "\n",
        "Pandas provides multipe in-built functions to quickly perform exploratory data analysis. In this section, we will see the most commonly used methods for exploring data"
      ]
    },
    {
      "cell_type": "code",
      "metadata": {
        "id": "u8WEpNk8jgT5",
        "colab_type": "code",
        "colab": {}
      },
      "source": [
        "#https://drive.google.com/file/d/1gb5doDzLk7fVZfgi02mT4_3PD31FZQoL/view?usp=sharing\n",
        "df = pd.read_csv('wine.csv')\n",
        "\n",
        "# Shape function is used for displaying the rows and columns of the DataFrame\n",
        "\n",
        "print('Shape of DataFrame:', df.shape)\n",
        "print('Number of rows in DataFrame:', df.shape[0])\n",
        "print('Number of columns in DataFrame:', df.shape[1])"
      ],
      "execution_count": null,
      "outputs": []
    },
    {
      "cell_type": "code",
      "metadata": {
        "id": "V5bwuCB0u6AD",
        "colab_type": "code",
        "colab": {}
      },
      "source": [
        "# Get the list of columns\n",
        "\n",
        "df.columns"
      ],
      "execution_count": null,
      "outputs": []
    },
    {
      "cell_type": "code",
      "metadata": {
        "id": "nOKuxH7GvSMO",
        "colab_type": "code",
        "colab": {}
      },
      "source": [
        "#Describe the DataFrame\n",
        "\n",
        "df.describe()"
      ],
      "execution_count": null,
      "outputs": []
    },
    {
      "cell_type": "code",
      "metadata": {
        "id": "PdgM0Kjcvq7_",
        "colab_type": "code",
        "colab": {}
      },
      "source": [
        "#Describe the DataFrame including categorical features\n",
        "\n",
        "df.describe(include = 'all')"
      ],
      "execution_count": null,
      "outputs": []
    },
    {
      "cell_type": "code",
      "metadata": {
        "id": "CwN_PT0Pw2p_",
        "colab_type": "code",
        "colab": {}
      },
      "source": [
        "df.info()"
      ],
      "execution_count": null,
      "outputs": []
    },
    {
      "cell_type": "code",
      "metadata": {
        "id": "DxXveMWfxf7g",
        "colab_type": "code",
        "colab": {}
      },
      "source": [
        "df.head(5)"
      ],
      "execution_count": null,
      "outputs": []
    },
    {
      "cell_type": "code",
      "metadata": {
        "id": "CHi1RPmRx4cv",
        "colab_type": "code",
        "colab": {}
      },
      "source": [
        "df.tail(5)"
      ],
      "execution_count": null,
      "outputs": []
    },
    {
      "cell_type": "code",
      "metadata": {
        "id": "0eCplkbc5Ph1",
        "colab_type": "code",
        "colab": {}
      },
      "source": [
        "#Get the number of unique / distinct values in a column\n",
        "df.quality.nunique()"
      ],
      "execution_count": null,
      "outputs": []
    },
    {
      "cell_type": "code",
      "metadata": {
        "id": "Xl9a2DeN5aFW",
        "colab_type": "code",
        "colab": {}
      },
      "source": [
        "# Get the list of unique / distinct values in a column\n",
        "df.quality.unique()"
      ],
      "execution_count": null,
      "outputs": []
    },
    {
      "cell_type": "code",
      "metadata": {
        "id": "dCwlErgfyBBC",
        "colab_type": "code",
        "colab": {}
      },
      "source": [
        "# Applying aggregate functions to columns\n",
        "\n",
        "print(df['chlorides'].mean())\n",
        "print(df.chlorides.mean())"
      ],
      "execution_count": null,
      "outputs": []
    },
    {
      "cell_type": "code",
      "metadata": {
        "id": "a-GwGormyUWE",
        "colab_type": "code",
        "colab": {}
      },
      "source": [
        "# Checking for number of null values\n",
        "df.chlorides.isnull().sum()"
      ],
      "execution_count": null,
      "outputs": []
    },
    {
      "cell_type": "code",
      "metadata": {
        "id": "Zhau9Mjfmmfm",
        "colab_type": "code",
        "colab": {}
      },
      "source": [
        ""
      ],
      "execution_count": null,
      "outputs": []
    },
    {
      "cell_type": "markdown",
      "metadata": {
        "id": "orm1FTwB1uBM",
        "colab_type": "text"
      },
      "source": [
        "#Apply and Map functions\n",
        "\n",
        "Often, we would need to apply custom function to all rows or columns in a DataFrame. Apply and Map funcations enables this funcationality. Apply function can be used for both Series and DataFrame objects while Map function can be used only for Series."
      ]
    },
    {
      "cell_type": "code",
      "metadata": {
        "id": "CbTvSZAJzM6Z",
        "colab_type": "code",
        "colab": {}
      },
      "source": [
        "df['chlorides_act'] = df['chlorides'].apply(lambda x: x * 100)\n",
        "df[['chlorides_act', 'chlorides']].head(3)"
      ],
      "execution_count": null,
      "outputs": []
    },
    {
      "cell_type": "code",
      "metadata": {
        "id": "YVpvU5IdEVtZ",
        "colab_type": "code",
        "colab": {}
      },
      "source": [
        "df['chlorides_act'] = df['chlorides'].map(lambda x: x * 100)\n",
        "df[['chlorides_act', 'chlorides']].head(3)"
      ],
      "execution_count": null,
      "outputs": []
    },
    {
      "cell_type": "code",
      "metadata": {
        "id": "unO5jYmESa_8",
        "colab_type": "code",
        "colab": {}
      },
      "source": [
        "df.apply(lambda x: x * 100)"
      ],
      "execution_count": null,
      "outputs": []
    },
    {
      "cell_type": "markdown",
      "metadata": {
        "id": "d3tkNyB7Sr_d",
        "colab_type": "text"
      },
      "source": [
        "#Indexing, Sorting and Slicing\n",
        "\n",
        "As part of Data Processing, there arises a need for functions like sorting, picking up specific records by indexing or location."
      ]
    },
    {
      "cell_type": "code",
      "metadata": {
        "id": "TqCHieYMXFpE",
        "colab_type": "code",
        "colab": {}
      },
      "source": [
        "#Lets create a new DataFrame with random indexes to explore indexing\n",
        "df = pd.DataFrame(np.random.randn(5,2),index=[1,4,5,2,3,], columns = ['col1','col2'])\n",
        "print(df)"
      ],
      "execution_count": null,
      "outputs": []
    },
    {
      "cell_type": "code",
      "metadata": {
        "id": "2bdlbEJ8Sh_t",
        "colab_type": "code",
        "colab": {}
      },
      "source": [
        "#Indexing is used for picking up a record based on index.\n",
        "print(df.loc[2])"
      ],
      "execution_count": null,
      "outputs": []
    },
    {
      "cell_type": "code",
      "metadata": {
        "id": "p_7cmW5HWpCX",
        "colab_type": "code",
        "colab": {}
      },
      "source": [
        "print(df.iloc[2])"
      ],
      "execution_count": null,
      "outputs": []
    },
    {
      "cell_type": "code",
      "metadata": {
        "id": "w5u0zm95YSkF",
        "colab_type": "code",
        "colab": {}
      },
      "source": [
        "#Sorting using index\n",
        "df.sort_index()"
      ],
      "execution_count": null,
      "outputs": []
    },
    {
      "cell_type": "code",
      "metadata": {
        "id": "LcDQCP5BZEYC",
        "colab_type": "code",
        "colab": {}
      },
      "source": [
        "df.sort_index(ascending= False)"
      ],
      "execution_count": null,
      "outputs": []
    },
    {
      "cell_type": "code",
      "metadata": {
        "id": "CxFV90_JZLJ4",
        "colab_type": "code",
        "colab": {}
      },
      "source": [
        "#Sorting using values\n",
        "df.sort_values('col1')"
      ],
      "execution_count": null,
      "outputs": []
    },
    {
      "cell_type": "code",
      "metadata": {
        "id": "alX827ycZoVW",
        "colab_type": "code",
        "colab": {}
      },
      "source": [
        "df_slice = df[0:3]\n",
        "print(df_slice)"
      ],
      "execution_count": null,
      "outputs": []
    },
    {
      "cell_type": "markdown",
      "metadata": {
        "id": "Bhco3vZab8Vc",
        "colab_type": "text"
      },
      "source": [
        "#Missing Values\n",
        "Pandas provides inbuilt functions to find and handle missing values. "
      ]
    },
    {
      "cell_type": "code",
      "metadata": {
        "id": "Mpa94UXnZ8px",
        "colab_type": "code",
        "colab": {}
      },
      "source": [
        "data = [[1,1,1], [2,np.NaN,6], [3,6,np.NaN], [4,8,12], [5,10,np.NaN]]\n",
        "df = pd.DataFrame(data, columns = ['col1', 'col2', 'col3'])\n",
        "df"
      ],
      "execution_count": null,
      "outputs": []
    },
    {
      "cell_type": "code",
      "metadata": {
        "id": "AlEOnAUUd4Cz",
        "colab_type": "code",
        "colab": {}
      },
      "source": [
        "df.isnull().sum()"
      ],
      "execution_count": null,
      "outputs": []
    },
    {
      "cell_type": "code",
      "metadata": {
        "id": "w_OM37aYelm3",
        "colab_type": "code",
        "colab": {}
      },
      "source": [
        "df.dropna()"
      ],
      "execution_count": null,
      "outputs": []
    },
    {
      "cell_type": "code",
      "metadata": {
        "id": "dJmmn0oCe1Mr",
        "colab_type": "code",
        "colab": {}
      },
      "source": [
        "df.dropna(subset = ['col2'])"
      ],
      "execution_count": null,
      "outputs": []
    },
    {
      "cell_type": "code",
      "metadata": {
        "id": "SM9QohTKfODV",
        "colab_type": "code",
        "colab": {}
      },
      "source": [
        "df.dropna(axis = 'columns')"
      ],
      "execution_count": null,
      "outputs": []
    },
    {
      "cell_type": "code",
      "metadata": {
        "id": "pXb1OciPfsrl",
        "colab_type": "code",
        "colab": {}
      },
      "source": [
        "df.fillna(0)"
      ],
      "execution_count": null,
      "outputs": []
    },
    {
      "cell_type": "code",
      "metadata": {
        "id": "0HEPqoHhgfcl",
        "colab_type": "code",
        "colab": {}
      },
      "source": [
        "df.fillna(method = 'ffill')"
      ],
      "execution_count": null,
      "outputs": []
    },
    {
      "cell_type": "code",
      "metadata": {
        "id": "iVDgJV8UguVB",
        "colab_type": "code",
        "colab": {}
      },
      "source": [
        "df.fillna(method = 'bfill')"
      ],
      "execution_count": null,
      "outputs": []
    },
    {
      "cell_type": "code",
      "metadata": {
        "id": "loLcmKLShWzg",
        "colab_type": "code",
        "colab": {}
      },
      "source": [
        "df.fillna(df.median())"
      ],
      "execution_count": null,
      "outputs": []
    },
    {
      "cell_type": "markdown",
      "metadata": {
        "id": "5bssOj9LiU9C",
        "colab_type": "text"
      },
      "source": [
        "#Grouping, Filtering, Value_Counts\n",
        "To derive insights from raw data, grouping and filtering is commonly used. In this section we will explore the inbuilt functions of Pandas that enables these functions."
      ]
    },
    {
      "cell_type": "code",
      "metadata": {
        "id": "0BgutgBgh39Q",
        "colab_type": "code",
        "colab": {}
      },
      "source": [
        "df = pd.read_csv('wine.csv')"
      ],
      "execution_count": null,
      "outputs": []
    },
    {
      "cell_type": "code",
      "metadata": {
        "id": "Ory0aiPKko4_",
        "colab_type": "code",
        "colab": {}
      },
      "source": [
        "df.info()"
      ],
      "execution_count": null,
      "outputs": []
    },
    {
      "cell_type": "code",
      "metadata": {
        "id": "6DhlTL_Mkqoi",
        "colab_type": "code",
        "colab": {}
      },
      "source": [
        "df[['type', 'pH']].groupby(['type'], as_index=False).mean()"
      ],
      "execution_count": null,
      "outputs": []
    },
    {
      "cell_type": "code",
      "metadata": {
        "id": "4PkDJMySk3jF",
        "colab_type": "code",
        "colab": {}
      },
      "source": [
        "df[['quality', 'density']].groupby(['quality'], as_index=True).mean()"
      ],
      "execution_count": null,
      "outputs": []
    },
    {
      "cell_type": "code",
      "metadata": {
        "id": "NesfZckhlDN-",
        "colab_type": "code",
        "colab": {}
      },
      "source": [
        "#Filtering the rows based on values\n",
        "\n",
        "df[df['quality'] > 5][['quality', 'density']].groupby(['quality'], as_index=True).max()"
      ],
      "execution_count": null,
      "outputs": []
    },
    {
      "cell_type": "code",
      "metadata": {
        "id": "nPhQYJbKp_A1",
        "colab_type": "code",
        "colab": {}
      },
      "source": [
        "df[['type', 'quality', 'density']].groupby(['type', 'quality']).mean()"
      ],
      "execution_count": null,
      "outputs": []
    },
    {
      "cell_type": "code",
      "metadata": {
        "id": "D79LXedzqxCx",
        "colab_type": "code",
        "colab": {}
      },
      "source": [
        "df[['quality', 'density']].groupby(['quality'], as_index=True).agg([np.sum, np.mean, np.std])"
      ],
      "execution_count": null,
      "outputs": []
    },
    {
      "cell_type": "code",
      "metadata": {
        "id": "xdTJmQEUoZ86",
        "colab_type": "code",
        "colab": {}
      },
      "source": [
        "df['quality'].value_counts()"
      ],
      "execution_count": null,
      "outputs": []
    },
    {
      "cell_type": "code",
      "metadata": {
        "id": "essBNBg5oniY",
        "colab_type": "code",
        "colab": {}
      },
      "source": [
        "df.groupby('quality').filter(lambda x: len(x) >= 50)"
      ],
      "execution_count": null,
      "outputs": []
    },
    {
      "cell_type": "markdown",
      "metadata": {
        "id": "ECllqXqBs0QL",
        "colab_type": "text"
      },
      "source": [
        "#Merging and Concatenation\n",
        "\n",
        "While processing structured data, Joining and Concatenating multiple tables is a common task. Pandas provides inbuilt function, Merge which is equiavalent to Joins and Concat which is equivalent to Union in SQL."
      ]
    },
    {
      "cell_type": "code",
      "metadata": {
        "id": "HbUjfiGKrKTg",
        "colab_type": "code",
        "colab": {
          "base_uri": "https://localhost:8080/",
          "height": 228
        },
        "outputId": "28e7317f-348d-446d-c8ac-4dc07430be81"
      },
      "source": [
        "left = pd.DataFrame({\n",
        "   'id':[1,2,3,4,5],\n",
        "   'Name': ['Alex', 'Amy', 'Jill', 'Alice', 'Tom'],\n",
        "   'Account_id':['CURR', 'SAV', 'CURR', 'OD', 'SAV']})\n",
        "right = pd.DataFrame(\n",
        "   {'id':[1,2,3],\n",
        "   'Account_id': ['CURR', 'SAV', 'DD'],\n",
        "   'Account_Name':['Current','Saving','Demand']})\n",
        "print(left)\n",
        "print('\\n')\n",
        "print(right)"
      ],
      "execution_count": null,
      "outputs": [
        {
          "output_type": "stream",
          "text": [
            "   id   Name Account_id\n",
            "0   1   Alex       CURR\n",
            "1   2    Amy        SAV\n",
            "2   3   Jill       CURR\n",
            "3   4  Alice         OD\n",
            "4   5    Tom        SAV\n",
            "\n",
            "\n",
            "   id Account_id Account_Name\n",
            "0   1       CURR      Current\n",
            "1   2        SAV       Saving\n",
            "2   3         DD       Demand\n"
          ],
          "name": "stdout"
        }
      ]
    },
    {
      "cell_type": "code",
      "metadata": {
        "id": "O2220qKIuVAG",
        "colab_type": "code",
        "colab": {
          "base_uri": "https://localhost:8080/",
          "height": 172
        },
        "outputId": "c5c6bde2-00e7-4e02-f656-71183f7d4961"
      },
      "source": [
        "# Inner Join\n",
        "pd.merge(left,right,on='Account_id')"
      ],
      "execution_count": null,
      "outputs": [
        {
          "output_type": "execute_result",
          "data": {
            "text/html": [
              "<div>\n",
              "<style scoped>\n",
              "    .dataframe tbody tr th:only-of-type {\n",
              "        vertical-align: middle;\n",
              "    }\n",
              "\n",
              "    .dataframe tbody tr th {\n",
              "        vertical-align: top;\n",
              "    }\n",
              "\n",
              "    .dataframe thead th {\n",
              "        text-align: right;\n",
              "    }\n",
              "</style>\n",
              "<table border=\"1\" class=\"dataframe\">\n",
              "  <thead>\n",
              "    <tr style=\"text-align: right;\">\n",
              "      <th></th>\n",
              "      <th>id_x</th>\n",
              "      <th>Name</th>\n",
              "      <th>Account_id</th>\n",
              "      <th>id_y</th>\n",
              "      <th>Account_Name</th>\n",
              "    </tr>\n",
              "  </thead>\n",
              "  <tbody>\n",
              "    <tr>\n",
              "      <th>0</th>\n",
              "      <td>1</td>\n",
              "      <td>Alex</td>\n",
              "      <td>CURR</td>\n",
              "      <td>1</td>\n",
              "      <td>Current</td>\n",
              "    </tr>\n",
              "    <tr>\n",
              "      <th>1</th>\n",
              "      <td>3</td>\n",
              "      <td>Jill</td>\n",
              "      <td>CURR</td>\n",
              "      <td>1</td>\n",
              "      <td>Current</td>\n",
              "    </tr>\n",
              "    <tr>\n",
              "      <th>2</th>\n",
              "      <td>2</td>\n",
              "      <td>Amy</td>\n",
              "      <td>SAV</td>\n",
              "      <td>2</td>\n",
              "      <td>Saving</td>\n",
              "    </tr>\n",
              "    <tr>\n",
              "      <th>3</th>\n",
              "      <td>5</td>\n",
              "      <td>Tom</td>\n",
              "      <td>SAV</td>\n",
              "      <td>2</td>\n",
              "      <td>Saving</td>\n",
              "    </tr>\n",
              "  </tbody>\n",
              "</table>\n",
              "</div>"
            ],
            "text/plain": [
              "   id_x  Name Account_id  id_y Account_Name\n",
              "0     1  Alex       CURR     1      Current\n",
              "1     3  Jill       CURR     1      Current\n",
              "2     2   Amy        SAV     2       Saving\n",
              "3     5   Tom        SAV     2       Saving"
            ]
          },
          "metadata": {
            "tags": []
          },
          "execution_count": 58
        }
      ]
    },
    {
      "cell_type": "code",
      "metadata": {
        "id": "ZplfocvDvCPi",
        "colab_type": "code",
        "colab": {
          "base_uri": "https://localhost:8080/",
          "height": 203
        },
        "outputId": "6d37d866-6f85-4cf5-b752-00aef09eb2a0"
      },
      "source": [
        "# Left Join\n",
        "pd.merge(left, right, on='Account_id', how='left')"
      ],
      "execution_count": null,
      "outputs": [
        {
          "output_type": "execute_result",
          "data": {
            "text/html": [
              "<div>\n",
              "<style scoped>\n",
              "    .dataframe tbody tr th:only-of-type {\n",
              "        vertical-align: middle;\n",
              "    }\n",
              "\n",
              "    .dataframe tbody tr th {\n",
              "        vertical-align: top;\n",
              "    }\n",
              "\n",
              "    .dataframe thead th {\n",
              "        text-align: right;\n",
              "    }\n",
              "</style>\n",
              "<table border=\"1\" class=\"dataframe\">\n",
              "  <thead>\n",
              "    <tr style=\"text-align: right;\">\n",
              "      <th></th>\n",
              "      <th>id_x</th>\n",
              "      <th>Name</th>\n",
              "      <th>Account_id</th>\n",
              "      <th>id_y</th>\n",
              "      <th>Account_Name</th>\n",
              "    </tr>\n",
              "  </thead>\n",
              "  <tbody>\n",
              "    <tr>\n",
              "      <th>0</th>\n",
              "      <td>1</td>\n",
              "      <td>Alex</td>\n",
              "      <td>CURR</td>\n",
              "      <td>1.0</td>\n",
              "      <td>Current</td>\n",
              "    </tr>\n",
              "    <tr>\n",
              "      <th>1</th>\n",
              "      <td>2</td>\n",
              "      <td>Amy</td>\n",
              "      <td>SAV</td>\n",
              "      <td>2.0</td>\n",
              "      <td>Saving</td>\n",
              "    </tr>\n",
              "    <tr>\n",
              "      <th>2</th>\n",
              "      <td>3</td>\n",
              "      <td>Jill</td>\n",
              "      <td>CURR</td>\n",
              "      <td>1.0</td>\n",
              "      <td>Current</td>\n",
              "    </tr>\n",
              "    <tr>\n",
              "      <th>3</th>\n",
              "      <td>4</td>\n",
              "      <td>Alice</td>\n",
              "      <td>OD</td>\n",
              "      <td>NaN</td>\n",
              "      <td>NaN</td>\n",
              "    </tr>\n",
              "    <tr>\n",
              "      <th>4</th>\n",
              "      <td>5</td>\n",
              "      <td>Tom</td>\n",
              "      <td>SAV</td>\n",
              "      <td>2.0</td>\n",
              "      <td>Saving</td>\n",
              "    </tr>\n",
              "  </tbody>\n",
              "</table>\n",
              "</div>"
            ],
            "text/plain": [
              "   id_x   Name Account_id  id_y Account_Name\n",
              "0     1   Alex       CURR   1.0      Current\n",
              "1     2    Amy        SAV   2.0       Saving\n",
              "2     3   Jill       CURR   1.0      Current\n",
              "3     4  Alice         OD   NaN          NaN\n",
              "4     5    Tom        SAV   2.0       Saving"
            ]
          },
          "metadata": {
            "tags": []
          },
          "execution_count": 59
        }
      ]
    },
    {
      "cell_type": "code",
      "metadata": {
        "id": "RHDXVrzhwIl7",
        "colab_type": "code",
        "colab": {
          "base_uri": "https://localhost:8080/",
          "height": 203
        },
        "outputId": "3f275ad6-2b37-4d37-a15b-67cadad3292c"
      },
      "source": [
        "# Right Join\n",
        "pd.merge(left, right, on='Account_id', how='right')"
      ],
      "execution_count": null,
      "outputs": [
        {
          "output_type": "execute_result",
          "data": {
            "text/html": [
              "<div>\n",
              "<style scoped>\n",
              "    .dataframe tbody tr th:only-of-type {\n",
              "        vertical-align: middle;\n",
              "    }\n",
              "\n",
              "    .dataframe tbody tr th {\n",
              "        vertical-align: top;\n",
              "    }\n",
              "\n",
              "    .dataframe thead th {\n",
              "        text-align: right;\n",
              "    }\n",
              "</style>\n",
              "<table border=\"1\" class=\"dataframe\">\n",
              "  <thead>\n",
              "    <tr style=\"text-align: right;\">\n",
              "      <th></th>\n",
              "      <th>id_x</th>\n",
              "      <th>Name</th>\n",
              "      <th>Account_id</th>\n",
              "      <th>id_y</th>\n",
              "      <th>Account_Name</th>\n",
              "    </tr>\n",
              "  </thead>\n",
              "  <tbody>\n",
              "    <tr>\n",
              "      <th>0</th>\n",
              "      <td>1.0</td>\n",
              "      <td>Alex</td>\n",
              "      <td>CURR</td>\n",
              "      <td>1</td>\n",
              "      <td>Current</td>\n",
              "    </tr>\n",
              "    <tr>\n",
              "      <th>1</th>\n",
              "      <td>3.0</td>\n",
              "      <td>Jill</td>\n",
              "      <td>CURR</td>\n",
              "      <td>1</td>\n",
              "      <td>Current</td>\n",
              "    </tr>\n",
              "    <tr>\n",
              "      <th>2</th>\n",
              "      <td>2.0</td>\n",
              "      <td>Amy</td>\n",
              "      <td>SAV</td>\n",
              "      <td>2</td>\n",
              "      <td>Saving</td>\n",
              "    </tr>\n",
              "    <tr>\n",
              "      <th>3</th>\n",
              "      <td>5.0</td>\n",
              "      <td>Tom</td>\n",
              "      <td>SAV</td>\n",
              "      <td>2</td>\n",
              "      <td>Saving</td>\n",
              "    </tr>\n",
              "    <tr>\n",
              "      <th>4</th>\n",
              "      <td>NaN</td>\n",
              "      <td>NaN</td>\n",
              "      <td>DD</td>\n",
              "      <td>3</td>\n",
              "      <td>Demand</td>\n",
              "    </tr>\n",
              "  </tbody>\n",
              "</table>\n",
              "</div>"
            ],
            "text/plain": [
              "   id_x  Name Account_id  id_y Account_Name\n",
              "0   1.0  Alex       CURR     1      Current\n",
              "1   3.0  Jill       CURR     1      Current\n",
              "2   2.0   Amy        SAV     2       Saving\n",
              "3   5.0   Tom        SAV     2       Saving\n",
              "4   NaN   NaN         DD     3       Demand"
            ]
          },
          "metadata": {
            "tags": []
          },
          "execution_count": 60
        }
      ]
    },
    {
      "cell_type": "code",
      "metadata": {
        "id": "vmBxCzE3wOiu",
        "colab_type": "code",
        "colab": {
          "base_uri": "https://localhost:8080/",
          "height": 234
        },
        "outputId": "fa21f56e-611c-4a43-b65b-8258b4860bb6"
      },
      "source": [
        "# Full outer join\n",
        "pd.merge(left, right, on='Account_id', how='outer')"
      ],
      "execution_count": null,
      "outputs": [
        {
          "output_type": "execute_result",
          "data": {
            "text/html": [
              "<div>\n",
              "<style scoped>\n",
              "    .dataframe tbody tr th:only-of-type {\n",
              "        vertical-align: middle;\n",
              "    }\n",
              "\n",
              "    .dataframe tbody tr th {\n",
              "        vertical-align: top;\n",
              "    }\n",
              "\n",
              "    .dataframe thead th {\n",
              "        text-align: right;\n",
              "    }\n",
              "</style>\n",
              "<table border=\"1\" class=\"dataframe\">\n",
              "  <thead>\n",
              "    <tr style=\"text-align: right;\">\n",
              "      <th></th>\n",
              "      <th>id_x</th>\n",
              "      <th>Name</th>\n",
              "      <th>Account_id</th>\n",
              "      <th>id_y</th>\n",
              "      <th>Account_Name</th>\n",
              "    </tr>\n",
              "  </thead>\n",
              "  <tbody>\n",
              "    <tr>\n",
              "      <th>0</th>\n",
              "      <td>1.0</td>\n",
              "      <td>Alex</td>\n",
              "      <td>CURR</td>\n",
              "      <td>1.0</td>\n",
              "      <td>Current</td>\n",
              "    </tr>\n",
              "    <tr>\n",
              "      <th>1</th>\n",
              "      <td>3.0</td>\n",
              "      <td>Jill</td>\n",
              "      <td>CURR</td>\n",
              "      <td>1.0</td>\n",
              "      <td>Current</td>\n",
              "    </tr>\n",
              "    <tr>\n",
              "      <th>2</th>\n",
              "      <td>2.0</td>\n",
              "      <td>Amy</td>\n",
              "      <td>SAV</td>\n",
              "      <td>2.0</td>\n",
              "      <td>Saving</td>\n",
              "    </tr>\n",
              "    <tr>\n",
              "      <th>3</th>\n",
              "      <td>5.0</td>\n",
              "      <td>Tom</td>\n",
              "      <td>SAV</td>\n",
              "      <td>2.0</td>\n",
              "      <td>Saving</td>\n",
              "    </tr>\n",
              "    <tr>\n",
              "      <th>4</th>\n",
              "      <td>4.0</td>\n",
              "      <td>Alice</td>\n",
              "      <td>OD</td>\n",
              "      <td>NaN</td>\n",
              "      <td>NaN</td>\n",
              "    </tr>\n",
              "    <tr>\n",
              "      <th>5</th>\n",
              "      <td>NaN</td>\n",
              "      <td>NaN</td>\n",
              "      <td>DD</td>\n",
              "      <td>3.0</td>\n",
              "      <td>Demand</td>\n",
              "    </tr>\n",
              "  </tbody>\n",
              "</table>\n",
              "</div>"
            ],
            "text/plain": [
              "   id_x   Name Account_id  id_y Account_Name\n",
              "0   1.0   Alex       CURR   1.0      Current\n",
              "1   3.0   Jill       CURR   1.0      Current\n",
              "2   2.0    Amy        SAV   2.0       Saving\n",
              "3   5.0    Tom        SAV   2.0       Saving\n",
              "4   4.0  Alice         OD   NaN          NaN\n",
              "5   NaN    NaN         DD   3.0       Demand"
            ]
          },
          "metadata": {
            "tags": []
          },
          "execution_count": 61
        }
      ]
    },
    {
      "cell_type": "code",
      "metadata": {
        "id": "2PLZJSWEwWBj",
        "colab_type": "code",
        "colab": {
          "base_uri": "https://localhost:8080/",
          "height": 228
        },
        "outputId": "f6315f03-2f71-4c8a-f40c-54ca7672aafb"
      },
      "source": [
        "class1 = pd.DataFrame({\n",
        "   'Name': ['Alex', 'Amy', 'Jill', 'Alice', 'Tom'],\n",
        "   'Account_id':['CURR', 'SAV', 'CURR', 'OD', 'SAV']})\n",
        "class2 = pd.DataFrame(\n",
        "   {'Name': ['Harry', 'Nick', 'Jack'],\n",
        "   'Account_id': ['CURR', 'SAV', 'DD']})\n",
        "\n",
        "print(class1)\n",
        "print('\\n')\n",
        "print(class2)"
      ],
      "execution_count": null,
      "outputs": [
        {
          "output_type": "stream",
          "text": [
            "    Name Account_id\n",
            "0   Alex       CURR\n",
            "1    Amy        SAV\n",
            "2   Jill       CURR\n",
            "3  Alice         OD\n",
            "4    Tom        SAV\n",
            "\n",
            "\n",
            "    Name Account_id\n",
            "0  Harry       CURR\n",
            "1   Nick        SAV\n",
            "2   Jack         DD\n"
          ],
          "name": "stdout"
        }
      ]
    },
    {
      "cell_type": "code",
      "metadata": {
        "id": "ABpVnCYZ00jI",
        "colab_type": "code",
        "colab": {
          "base_uri": "https://localhost:8080/",
          "height": 296
        },
        "outputId": "f7dca79e-16f8-4ba2-b36a-36c03bf0a9f9"
      },
      "source": [
        "pd.concat([class1, class2])"
      ],
      "execution_count": null,
      "outputs": [
        {
          "output_type": "execute_result",
          "data": {
            "text/html": [
              "<div>\n",
              "<style scoped>\n",
              "    .dataframe tbody tr th:only-of-type {\n",
              "        vertical-align: middle;\n",
              "    }\n",
              "\n",
              "    .dataframe tbody tr th {\n",
              "        vertical-align: top;\n",
              "    }\n",
              "\n",
              "    .dataframe thead th {\n",
              "        text-align: right;\n",
              "    }\n",
              "</style>\n",
              "<table border=\"1\" class=\"dataframe\">\n",
              "  <thead>\n",
              "    <tr style=\"text-align: right;\">\n",
              "      <th></th>\n",
              "      <th>Name</th>\n",
              "      <th>Account_id</th>\n",
              "    </tr>\n",
              "  </thead>\n",
              "  <tbody>\n",
              "    <tr>\n",
              "      <th>0</th>\n",
              "      <td>Alex</td>\n",
              "      <td>CURR</td>\n",
              "    </tr>\n",
              "    <tr>\n",
              "      <th>1</th>\n",
              "      <td>Amy</td>\n",
              "      <td>SAV</td>\n",
              "    </tr>\n",
              "    <tr>\n",
              "      <th>2</th>\n",
              "      <td>Jill</td>\n",
              "      <td>CURR</td>\n",
              "    </tr>\n",
              "    <tr>\n",
              "      <th>3</th>\n",
              "      <td>Alice</td>\n",
              "      <td>OD</td>\n",
              "    </tr>\n",
              "    <tr>\n",
              "      <th>4</th>\n",
              "      <td>Tom</td>\n",
              "      <td>SAV</td>\n",
              "    </tr>\n",
              "    <tr>\n",
              "      <th>0</th>\n",
              "      <td>Harry</td>\n",
              "      <td>CURR</td>\n",
              "    </tr>\n",
              "    <tr>\n",
              "      <th>1</th>\n",
              "      <td>Nick</td>\n",
              "      <td>SAV</td>\n",
              "    </tr>\n",
              "    <tr>\n",
              "      <th>2</th>\n",
              "      <td>Jack</td>\n",
              "      <td>DD</td>\n",
              "    </tr>\n",
              "  </tbody>\n",
              "</table>\n",
              "</div>"
            ],
            "text/plain": [
              "    Name Account_id\n",
              "0   Alex       CURR\n",
              "1    Amy        SAV\n",
              "2   Jill       CURR\n",
              "3  Alice         OD\n",
              "4    Tom        SAV\n",
              "0  Harry       CURR\n",
              "1   Nick        SAV\n",
              "2   Jack         DD"
            ]
          },
          "metadata": {
            "tags": []
          },
          "execution_count": 63
        }
      ]
    },
    {
      "cell_type": "code",
      "metadata": {
        "id": "63OmHYMZ1Fy7",
        "colab_type": "code",
        "colab": {
          "base_uri": "https://localhost:8080/",
          "height": 296
        },
        "outputId": "e4a0d9d0-4045-41e6-d2c2-78f6e0e766ac"
      },
      "source": [
        "class1.append(class2)"
      ],
      "execution_count": null,
      "outputs": [
        {
          "output_type": "execute_result",
          "data": {
            "text/html": [
              "<div>\n",
              "<style scoped>\n",
              "    .dataframe tbody tr th:only-of-type {\n",
              "        vertical-align: middle;\n",
              "    }\n",
              "\n",
              "    .dataframe tbody tr th {\n",
              "        vertical-align: top;\n",
              "    }\n",
              "\n",
              "    .dataframe thead th {\n",
              "        text-align: right;\n",
              "    }\n",
              "</style>\n",
              "<table border=\"1\" class=\"dataframe\">\n",
              "  <thead>\n",
              "    <tr style=\"text-align: right;\">\n",
              "      <th></th>\n",
              "      <th>Name</th>\n",
              "      <th>Account_id</th>\n",
              "    </tr>\n",
              "  </thead>\n",
              "  <tbody>\n",
              "    <tr>\n",
              "      <th>0</th>\n",
              "      <td>Alex</td>\n",
              "      <td>CURR</td>\n",
              "    </tr>\n",
              "    <tr>\n",
              "      <th>1</th>\n",
              "      <td>Amy</td>\n",
              "      <td>SAV</td>\n",
              "    </tr>\n",
              "    <tr>\n",
              "      <th>2</th>\n",
              "      <td>Jill</td>\n",
              "      <td>CURR</td>\n",
              "    </tr>\n",
              "    <tr>\n",
              "      <th>3</th>\n",
              "      <td>Alice</td>\n",
              "      <td>OD</td>\n",
              "    </tr>\n",
              "    <tr>\n",
              "      <th>4</th>\n",
              "      <td>Tom</td>\n",
              "      <td>SAV</td>\n",
              "    </tr>\n",
              "    <tr>\n",
              "      <th>0</th>\n",
              "      <td>Harry</td>\n",
              "      <td>CURR</td>\n",
              "    </tr>\n",
              "    <tr>\n",
              "      <th>1</th>\n",
              "      <td>Nick</td>\n",
              "      <td>SAV</td>\n",
              "    </tr>\n",
              "    <tr>\n",
              "      <th>2</th>\n",
              "      <td>Jack</td>\n",
              "      <td>DD</td>\n",
              "    </tr>\n",
              "  </tbody>\n",
              "</table>\n",
              "</div>"
            ],
            "text/plain": [
              "    Name Account_id\n",
              "0   Alex       CURR\n",
              "1    Amy        SAV\n",
              "2   Jill       CURR\n",
              "3  Alice         OD\n",
              "4    Tom        SAV\n",
              "0  Harry       CURR\n",
              "1   Nick        SAV\n",
              "2   Jack         DD"
            ]
          },
          "metadata": {
            "tags": []
          },
          "execution_count": 64
        }
      ]
    },
    {
      "cell_type": "markdown",
      "metadata": {
        "id": "yGiAhncP2apU",
        "colab_type": "text"
      },
      "source": [
        "# Data Visualization\n",
        "\n",
        "Along with data analysis, Pandas also supports visualization of data. Though packages like Matplotlib and Seaborn are most commonly used for plotting, Pandas provides inbuilt functions for visualization."
      ]
    },
    {
      "cell_type": "code",
      "metadata": {
        "id": "gV9o4QLw1S7P",
        "colab_type": "code",
        "colab": {
          "base_uri": "https://localhost:8080/",
          "height": 306
        },
        "outputId": "95ed52ae-d429-4e10-b0ab-89e2072d6e89"
      },
      "source": [
        "df = pd.DataFrame(np.random.randn(10,4),index=pd.date_range('1/1/2000',\n",
        "   periods=10), columns=list('ABCD'))\n",
        "\n",
        "df.plot()"
      ],
      "execution_count": null,
      "outputs": [
        {
          "output_type": "execute_result",
          "data": {
            "text/plain": [
              "<matplotlib.axes._subplots.AxesSubplot at 0x7f8201435208>"
            ]
          },
          "metadata": {
            "tags": []
          },
          "execution_count": 65
        },
        {
          "output_type": "display_data",
          "data": {
            "image/png": "[encoded data removed]",
            "text/plain": [
              "<Figure size 432x288 with 1 Axes>"
            ]
          },
          "metadata": {
            "tags": [],
            "needs_background": "light"
          }
        }
      ]
    },
    {
      "cell_type": "code",
      "metadata": {
        "id": "woKd8eM_2V6s",
        "colab_type": "code",
        "colab": {
          "base_uri": "https://localhost:8080/",
          "height": 279
        },
        "outputId": "6dbe4deb-5bf3-4e07-8b05-6c756b954ce2"
      },
      "source": [
        "df = pd.DataFrame(np.random.rand(10,4),columns=['a','b','c','d'])\n",
        "df.plot.bar()"
      ],
      "execution_count": null,
      "outputs": [
        {
          "output_type": "execute_result",
          "data": {
            "text/plain": [
              "<matplotlib.axes._subplots.AxesSubplot at 0x7f8201391278>"
            ]
          },
          "metadata": {
            "tags": []
          },
          "execution_count": 66
        },
        {
          "output_type": "display_data",
          "data": {
            "image/png": "[encoded data removed]",
            "text/plain": [
              "<Figure size 432x288 with 1 Axes>"
            ]
          },
          "metadata": {
            "tags": [],
            "needs_background": "light"
          }
        }
      ]
    },
    {
      "cell_type": "code",
      "metadata": {
        "id": "QJcORp993Nt8",
        "colab_type": "code",
        "colab": {
          "base_uri": "https://localhost:8080/",
          "height": 279
        },
        "outputId": "ee176423-1863-47a1-839b-b71257f4de25"
      },
      "source": [
        "df.plot.bar(stacked=True)"
      ],
      "execution_count": null,
      "outputs": [
        {
          "output_type": "execute_result",
          "data": {
            "text/plain": [
              "<matplotlib.axes._subplots.AxesSubplot at 0x7f81ffb94e80>"
            ]
          },
          "metadata": {
            "tags": []
          },
          "execution_count": 67
        },
        {
          "output_type": "display_data",
          "data": {
            "image/png": "[encoded data removed]",
            "text/plain": [
              "<Figure size 432x288 with 1 Axes>"
            ]
          },
          "metadata": {
            "tags": [],
            "needs_background": "light"
          }
        }
      ]
    },
    {
      "cell_type": "code",
      "metadata": {
        "id": "jJosx4at3eSc",
        "colab_type": "code",
        "colab": {
          "base_uri": "https://localhost:8080/",
          "height": 282
        },
        "outputId": "9c251225-4579-4de4-b39d-b066fbccc27c"
      },
      "source": [
        "df.plot.barh(stacked=True)"
      ],
      "execution_count": null,
      "outputs": [
        {
          "output_type": "execute_result",
          "data": {
            "text/plain": [
              "<matplotlib.axes._subplots.AxesSubplot at 0x7f81ff9dda58>"
            ]
          },
          "metadata": {
            "tags": []
          },
          "execution_count": 68
        },
        {
          "output_type": "display_data",
          "data": {
            "image/png": "[encoded data removed]",
            "text/plain": [
              "<Figure size 432x288 with 1 Axes>"
            ]
          },
          "metadata": {
            "tags": [],
            "needs_background": "light"
          }
        }
      ]
    },
    {
      "cell_type": "code",
      "metadata": {
        "id": "hOoRbbdO3ihO",
        "colab_type": "code",
        "colab": {
          "base_uri": "https://localhost:8080/",
          "height": 282
        },
        "outputId": "afae0958-6701-43e7-f356-233e65134a40"
      },
      "source": [
        "df = pd.DataFrame({'a':np.random.randn(1000)+1,'b':np.random.randn(1000),'c':\n",
        "np.random.randn(1000) - 1}, columns=['a', 'b', 'c'])\n",
        "\n",
        "df.plot.hist(bins=20)"
      ],
      "execution_count": null,
      "outputs": [
        {
          "output_type": "execute_result",
          "data": {
            "text/plain": [
              "<matplotlib.axes._subplots.AxesSubplot at 0x7f81ff8e37f0>"
            ]
          },
          "metadata": {
            "tags": []
          },
          "execution_count": 69
        },
        {
          "output_type": "display_data",
          "data": {
            "image/png": "[encoded data removed]",
            "text/plain": [
              "<Figure size 432x288 with 1 Axes>"
            ]
          },
          "metadata": {
            "tags": [],
            "needs_background": "light"
          }
        }
      ]
    },
    {
      "cell_type": "code",
      "metadata": {
        "id": "GMBRFgj93lO5",
        "colab_type": "code",
        "colab": {
          "base_uri": "https://localhost:8080/",
          "height": 282
        },
        "outputId": "0621f47d-184c-4f8d-a4d3-af705023dfc9"
      },
      "source": [
        "df.plot.box()"
      ],
      "execution_count": null,
      "outputs": [
        {
          "output_type": "execute_result",
          "data": {
            "text/plain": [
              "<matplotlib.axes._subplots.AxesSubplot at 0x7f81ffa614a8>"
            ]
          },
          "metadata": {
            "tags": []
          },
          "execution_count": 70
        },
        {
          "output_type": "display_data",
          "data": {
            "image/png": "[encoded data removed]",
            "text/plain": [
              "<Figure size 432x288 with 1 Axes>"
            ]
          },
          "metadata": {
            "tags": [],
            "needs_background": "light"
          }
        }
      ]
    },
    {
      "cell_type": "code",
      "metadata": {
        "id": "G3eL6Zkz3pEy",
        "colab_type": "code",
        "colab": {
          "base_uri": "https://localhost:8080/",
          "height": 282
        },
        "outputId": "c299f6d3-8475-4667-af30-605ff98b3d3f"
      },
      "source": [
        "df = pd.DataFrame(np.random.rand(10, 4), columns=['a', 'b', 'c', 'd'])\n",
        "df.plot.area()"
      ],
      "execution_count": null,
      "outputs": [
        {
          "output_type": "execute_result",
          "data": {
            "text/plain": [
              "<matplotlib.axes._subplots.AxesSubplot at 0x7f81ffaf0860>"
            ]
          },
          "metadata": {
            "tags": []
          },
          "execution_count": 71
        },
        {
          "output_type": "display_data",
          "data": {
            "image/png": "[encoded data removed]",
            "text/plain": [
              "<Figure size 432x288 with 1 Axes>"
            ]
          },
          "metadata": {
            "tags": [],
            "needs_background": "light"
          }
        }
      ]
    },
    {
      "cell_type": "code",
      "metadata": {
        "id": "sN8iPbYb33bM",
        "colab_type": "code",
        "colab": {
          "base_uri": "https://localhost:8080/",
          "height": 296
        },
        "outputId": "49108426-a28a-4110-c52c-c6fb6ad353de"
      },
      "source": [
        "df.plot.scatter(x='a', y='b')"
      ],
      "execution_count": null,
      "outputs": [
        {
          "output_type": "execute_result",
          "data": {
            "text/plain": [
              "<matplotlib.axes._subplots.AxesSubplot at 0x7f81ff8abc88>"
            ]
          },
          "metadata": {
            "tags": []
          },
          "execution_count": 72
        },
        {
          "output_type": "display_data",
          "data": {
            "image/png": "[encoded data removed]",
            "text/plain": [
              "<Figure size 432x288 with 1 Axes>"
            ]
          },
          "metadata": {
            "tags": [],
            "needs_background": "light"
          }
        }
      ]
    },
    {
      "cell_type": "code",
      "metadata": {
        "id": "wPtZDZB73_SM",
        "colab_type": "code",
        "colab": {
          "base_uri": "https://localhost:8080/",
          "height": 283
        },
        "outputId": "21583ad0-2ab5-4301-e79c-139248a371cd"
      },
      "source": [
        "df = pd.DataFrame(3 * np.random.rand(4), index=['a', 'b', 'c', 'd'], columns=['x'])\n",
        "df.plot.pie(subplots=True)"
      ],
      "execution_count": null,
      "outputs": [
        {
          "output_type": "execute_result",
          "data": {
            "text/plain": [
              "array([<matplotlib.axes._subplots.AxesSubplot object at 0x7f81ff6709e8>],\n",
              "      dtype=object)"
            ]
          },
          "metadata": {
            "tags": []
          },
          "execution_count": 73
        },
        {
          "output_type": "display_data",
          "data": {
            "image/png": "[encoded data removed]",
            "text/plain": [
              "<Figure size 432x288 with 1 Axes>"
            ]
          },
          "metadata": {
            "tags": []
          }
        }
      ]
    },
    {
      "cell_type": "code",
      "metadata": {
        "id": "uj4NSV8I4Cb0",
        "colab_type": "code",
        "colab": {}
      },
      "source": [
        ""
      ],
      "execution_count": null,
      "outputs": []
    }
  ]
}